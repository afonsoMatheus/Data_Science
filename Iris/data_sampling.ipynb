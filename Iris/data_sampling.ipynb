{
 "cells": [
  {
   "cell_type": "code",
   "execution_count": 185,
   "metadata": {},
   "outputs": [],
   "source": [
    "import pandas as pd\n",
    "import numpy as np\n",
    "import math\n",
    "from sklearn.model_selection import train_test_split"
   ]
  },
  {
   "cell_type": "code",
   "execution_count": 235,
   "metadata": {},
   "outputs": [],
   "source": [
    "def kfolds(data, r):\n",
    "    \n",
    "    aux = data.copy()\n",
    "    size = math.floor(len(aux)/r)\n",
    "    \n",
    "    folds = {}\n",
    "    \n",
    "    for j in range(r):\n",
    "        \n",
    "        folds[j] = []\n",
    "        \n",
    "        data = aux\n",
    "        \n",
    "        for i in range(r):            \n",
    "            \n",
    "            if(i == r - 1):\n",
    "                                \n",
    "                folds[j].append(data)\n",
    "                \n",
    "            else:\n",
    "            \n",
    "                samp = data.sample(n = size)\n",
    "                folds[j].append(samp)\n",
    "            \n",
    "                remov = pd.concat([data, samp])\n",
    "                data = remov.drop_duplicates(keep=False)\n",
    "                \n",
    "            \n",
    "\n",
    "    return folds\n",
    "\n",
    "def cross_validation(data, r):\n",
    "    \n",
    "    folds = kfolds(data, r)\n",
    "    \n",
    "    for i in range(r):\n",
    "        \n",
    "        train = folds\n",
    "    \n",
    "    return\n"
   ]
  },
  {
   "cell_type": "code",
   "execution_count": 236,
   "metadata": {},
   "outputs": [
    {
     "name": "stdout",
     "output_type": "stream",
     "text": [
      "0\n",
      "1\n",
      "2\n",
      "3\n",
      "4\n",
      "aq\n",
      "0\n",
      "1\n",
      "2\n",
      "3\n",
      "4\n",
      "aq\n",
      "0\n",
      "1\n",
      "2\n",
      "3\n",
      "4\n",
      "aq\n",
      "0\n",
      "1\n",
      "2\n",
      "3\n",
      "4\n",
      "aq\n",
      "0\n",
      "1\n",
      "2\n",
      "3\n",
      "4\n",
      "aq\n"
     ]
    }
   ],
   "source": [
    "data = pd.read_csv(\"iris.csv\")\n",
    "subs = folds(data, 5)"
   ]
  },
  {
   "cell_type": "code",
   "execution_count": 116,
   "metadata": {},
   "outputs": [],
   "source": [
    "def leave_one_out(data):\n",
    "    \n",
    "    train, test = train_test_split(data, test_size = 1)\n",
    "    \n",
    "    return train, test"
   ]
  },
  {
   "cell_type": "code",
   "execution_count": 117,
   "metadata": {},
   "outputs": [],
   "source": [
    "def random_subsampling(data, n):\n",
    "    \n",
    "    subs = {}\n",
    "    \n",
    "    for i in range(n):\n",
    "    \n",
    "        train, test = train_test_split(data, test_size = 0.25)\n",
    "        \n",
    "        subs[i] = [train, test]\n",
    "    \n",
    "    return subs"
   ]
  },
  {
   "cell_type": "code",
   "execution_count": 125,
   "metadata": {},
   "outputs": [
    {
     "name": "stdout",
     "output_type": "stream",
     "text": [
      "     sepal.length  sepal.width  petal.length  petal.width     variety\n",
      "132           6.4          2.8           5.6          2.2   Virginica\n",
      "67            5.8          2.7           4.1          1.0  Versicolor\n",
      "0             5.1          3.5           1.4          0.2      Setosa\n",
      "32            5.2          4.1           1.5          0.1      Setosa\n",
      "44            5.1          3.8           1.9          0.4      Setosa\n",
      "     sepal.length  sepal.width  petal.length  petal.width     variety\n",
      "86            6.7          3.1           4.7          1.5  Versicolor\n",
      "141           6.9          3.1           5.1          2.3   Virginica\n",
      "66            5.6          3.0           4.5          1.5  Versicolor\n",
      "98            5.1          2.5           3.0          1.1  Versicolor\n",
      "1             4.9          3.0           1.4          0.2      Setosa\n"
     ]
    }
   ],
   "source": [
    "print(subs[0][1].head())\n",
    "print(subs[1][1].head())"
   ]
  },
  {
   "cell_type": "code",
   "execution_count": null,
   "metadata": {},
   "outputs": [],
   "source": []
  }
 ],
 "metadata": {
  "kernelspec": {
   "display_name": "Python 3",
   "language": "python",
   "name": "python3"
  },
  "language_info": {
   "codemirror_mode": {
    "name": "ipython",
    "version": 3
   },
   "file_extension": ".py",
   "mimetype": "text/x-python",
   "name": "python",
   "nbconvert_exporter": "python",
   "pygments_lexer": "ipython3",
   "version": "3.6.7"
  }
 },
 "nbformat": 4,
 "nbformat_minor": 2
}
