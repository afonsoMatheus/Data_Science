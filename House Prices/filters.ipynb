{
 "cells": [
  {
   "cell_type": "code",
   "execution_count": 112,
   "metadata": {},
   "outputs": [],
   "source": [
    "import pandas as pd\n",
    "import numpy as np\n",
    "\n",
    "data = pd.read_csv(\"train.csv\")"
   ]
  },
  {
   "cell_type": "code",
   "execution_count": 190,
   "metadata": {},
   "outputs": [
    {
     "data": {
      "text/plain": [
       "60.0     143\n",
       "70.0      70\n",
       "80.0      69\n",
       "50.0      57\n",
       "75.0      53\n",
       "65.0      44\n",
       "85.0      40\n",
       "78.0      25\n",
       "21.0      23\n",
       "90.0      23\n",
       "68.0      19\n",
       "24.0      19\n",
       "64.0      19\n",
       "73.0      18\n",
       "72.0      17\n",
       "79.0      17\n",
       "63.0      17\n",
       "55.0      17\n",
       "100.0     16\n",
       "51.0      15\n",
       "66.0      15\n",
       "74.0      15\n",
       "52.0      14\n",
       "59.0      13\n",
       "71.0      12\n",
       "82.0      12\n",
       "40.0      12\n",
       "43.0      12\n",
       "67.0      12\n",
       "57.0      12\n",
       "        ... \n",
       "129.0      2\n",
       "124.0      2\n",
       "118.0      2\n",
       "101.0      2\n",
       "122.0      2\n",
       "121.0      2\n",
       "115.0      2\n",
       "109.0      2\n",
       "116.0      2\n",
       "114.0      2\n",
       "150.0      1\n",
       "111.0      1\n",
       "153.0      1\n",
       "182.0      1\n",
       "46.0       1\n",
       "112.0      1\n",
       "149.0      1\n",
       "141.0      1\n",
       "33.0       1\n",
       "152.0      1\n",
       "160.0      1\n",
       "168.0      1\n",
       "128.0      1\n",
       "144.0      1\n",
       "39.0       1\n",
       "106.0      1\n",
       "38.0       1\n",
       "138.0      1\n",
       "140.0      1\n",
       "137.0      1\n",
       "Length: 110, dtype: int64"
      ]
     },
     "execution_count": 190,
     "metadata": {},
     "output_type": "execute_result"
    }
   ],
   "source": [
    "''' desbalanced classes '''\n",
    "\n",
    "pd.value_counts(data[\"LotFrontage\"].values)"
   ]
  },
  {
   "cell_type": "code",
   "execution_count": 16,
   "metadata": {},
   "outputs": [
    {
     "data": {
      "text/plain": [
       "46"
      ]
     },
     "execution_count": 16,
     "metadata": {},
     "output_type": "execute_result"
    }
   ],
   "source": [
    "''' filter: minimun correlation with target '''\n",
    "\n",
    "def corr_filter(data, target):\n",
    "    cor = data.corr()\n",
    "    cor_target = abs(cor[target])\n",
    "    irrelevant_features = cor_target[cor_target < 0.6]\n",
    "        \n",
    "    data = data.drop(columns = irrelevant_features.index)\n",
    "    \n",
    "    return data\n",
    "\n",
    "data = corr_filter(data, \"SalePrice\")\n",
    "\n",
    "len(data.columns)\n"
   ]
  },
  {
   "cell_type": "code",
   "execution_count": 113,
   "metadata": {},
   "outputs": [],
   "source": [
    "''' filter: NaN values '''\n",
    "\n",
    "def nan_filter(data):\n",
    "    \n",
    "    nan_attr = {}\n",
    "    sum_attr = data.isnull().sum()\n",
    "        \n",
    "    key = 0        \n",
    "    for i in range(sum_attr.size):\n",
    "        \n",
    "        if(sum_attr.iloc[i] > 0):\n",
    "                                    \n",
    "            nan_attr[key] = [sum_attr.index[i], sum_attr.iloc[i]]\n",
    "            key = key + 1\n",
    "        \n",
    "    for i in range(len(nan_attr)):\n",
    "                \n",
    "        if(nan_attr[i][1] >= 0.75 * data[nan_attr[i][0]].value_counts(dropna=False).sum()):\n",
    "            data = data.drop(columns = nan_attr[i][0])\n",
    "        elif(data[nan_attr[i][0]].dtype == 'object'):\n",
    "            data[nan_attr[i][0]] = data[nan_attr[i][0]].fillna(data[nan_attr[i][0]].mode().iloc[0])\n",
    "        else:\n",
    "            data[nan_attr[i][0]] = data[nan_attr[i][0]].fillna(data[nan_attr[i][0]].mean())\n",
    "    \n",
    "    return data\n",
    "\n",
    "data = nan_filter(data)\n",
    "    "
   ]
  },
  {
   "cell_type": "code",
   "execution_count": 117,
   "metadata": {},
   "outputs": [
    {
     "name": "stdout",
     "output_type": "stream",
     "text": [
      "{'MSZoning': [1151, 218, 65, 16, 10], 'Street': [1454, 6], 'LotShape': [925, 484, 41, 10], 'LandContour': [1311, 63, 50, 36], 'Utilities': [1459, 1], 'LotConfig': [1052, 263, 94, 47, 4], 'LandSlope': [1382, 65, 13], 'Neighborhood': [225, 150, 113, 100, 86, 79, 77, 74, 73, 59, 58, 51, 49, 41, 38, 37, 28, 25, 25, 17, 17, 16, 11, 9, 2], 'Condition1': [1260, 81, 48, 26, 19, 11, 8, 5, 2], 'Condition2': [1445, 6, 2, 2, 2, 1, 1, 1], 'BldgType': [1220, 114, 52, 43, 31], 'HouseStyle': [726, 445, 154, 65, 37, 14, 11, 8], 'RoofStyle': [1141, 286, 13, 11, 7, 2], 'RoofMatl': [1434, 11, 6, 5, 1, 1, 1, 1], 'Exterior1st': [515, 222, 220, 206, 108, 61, 50, 26, 25, 20, 2, 2, 1, 1, 1], 'Exterior2nd': [504, 214, 207, 197, 142, 60, 38, 26, 25, 20, 10, 7, 5, 3, 1, 1], 'MasVnrType': [872, 445, 128, 15], 'ExterQual': [906, 488, 52, 14], 'ExterCond': [1282, 146, 28, 3, 1], 'Foundation': [647, 634, 146, 24, 6, 3], 'BsmtQual': [686, 618, 121, 35], 'BsmtCond': [1348, 65, 45, 2], 'BsmtExposure': [991, 221, 134, 114], 'BsmtFinType1': [467, 418, 220, 148, 133, 74], 'BsmtFinType2': [1294, 54, 46, 33, 19, 14], 'Heating': [1428, 18, 7, 4, 2, 1], 'HeatingQC': [741, 428, 241, 49, 1], 'CentralAir': [1365, 95], 'Electrical': [1335, 94, 27, 3, 1], 'KitchenQual': [735, 586, 100, 39], 'Functional': [1360, 34, 31, 15, 14, 5, 1], 'FireplaceQu': [1070, 313, 33, 24, 20], 'GarageType': [951, 387, 88, 19, 9, 6], 'GarageFinish': [686, 422, 352], 'GarageQual': [1392, 48, 14, 3, 3], 'GarageCond': [1407, 35, 9, 7, 2], 'PavedDrive': [1340, 90, 30], 'SaleType': [1267, 122, 43, 9, 5, 5, 4, 3, 2], 'SaleCondition': [1198, 125, 101, 20, 12, 4]}\n"
     ]
    }
   ],
   "source": [
    "''' filter: desbalanced classes '''\n",
    "\n",
    "def desc_filter(data):\n",
    "    \n",
    "    objects = []\n",
    "    classes_attr = {}\n",
    "    \n",
    "    for i in range(len(data.columns)):\n",
    "    \n",
    "        if(data[data.iloc[0].index[i]].dtype == \"object\"):\n",
    "            objects.append(data.iloc[0].index[i]) \n",
    "        \n",
    "    for i in range(len(objects)):\n",
    "        \n",
    "        class_size = data[objects[i]].value_counts().size\n",
    "        classes_attr[objects[i]] = []                    \n",
    "\n",
    "        for j in range(class_size):\n",
    "            \n",
    "            classes_attr[objects[i]].append(data[objects[i]].value_counts()[j])   \n",
    "            \n",
    "    print(classes_attr)\n",
    "\n",
    "desc_filter(data)\n"
   ]
  },
  {
   "cell_type": "code",
   "execution_count": null,
   "metadata": {},
   "outputs": [],
   "source": []
  },
  {
   "cell_type": "code",
   "execution_count": 48,
   "metadata": {},
   "outputs": [
    {
     "data": {
      "text/plain": [
       "3.0    1311\n",
       "2.0      48\n",
       "4.0      14\n",
       "1.0       3\n",
       "5.0       3\n",
       "dtype: int64"
      ]
     },
     "execution_count": 48,
     "metadata": {},
     "output_type": "execute_result"
    }
   ],
   "source": [
    "''' changing value key '''\n",
    "\n",
    "data['GarageQual'] = data['GarageQual'].map({'Ex': 5, 'Gd': 4, 'TA':3, 'Fa':2, 'Po': 1, \"Na\" : 0 })\n",
    "pd.value_counts(data[\"GarageQual\"].values)"
   ]
  },
  {
   "cell_type": "code",
   "execution_count": null,
   "metadata": {},
   "outputs": [],
   "source": []
  }
 ],
 "metadata": {
  "kernelspec": {
   "display_name": "Python 3",
   "language": "python",
   "name": "python3"
  },
  "language_info": {
   "codemirror_mode": {
    "name": "ipython",
    "version": 3
   },
   "file_extension": ".py",
   "mimetype": "text/x-python",
   "name": "python",
   "nbconvert_exporter": "python",
   "pygments_lexer": "ipython3",
   "version": "3.6.7"
  }
 },
 "nbformat": 4,
 "nbformat_minor": 2
}
