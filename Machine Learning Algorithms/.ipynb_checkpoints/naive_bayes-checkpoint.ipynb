{
 "cells": [
  {
   "cell_type": "code",
   "execution_count": 19,
   "metadata": {},
   "outputs": [],
   "source": [
    "import pandas as pd\n",
    "import numpy as np\n",
    "import math\n",
    "import data_sampling as ds\n",
    "from sklearn.naive_bayes import GaussianNB\n",
    "from sklearn.metrics import accuracy_score\n",
    "import time"
   ]
  },
  {
   "cell_type": "code",
   "execution_count": 28,
   "metadata": {},
   "outputs": [],
   "source": [
    "class naiveBayes:\n",
    "    \n",
    "    def __init__(self):\n",
    "        self.model = None\n",
    "        self.priori = None\n",
    "        \n",
    "    def predict(self, test):\n",
    "        \n",
    "        test = list(test.values)\n",
    "        \n",
    "        probs = []\n",
    "        \n",
    "        for i in range(len(test)):\n",
    "        \n",
    "            probs.append(self.classes_prob(self.model, test[i]))\n",
    "            \n",
    "        aux = None\n",
    "        label = None\n",
    "        prob_now = -1\n",
    "        results = []\n",
    "        \n",
    "        for i in range(len(probs)):\n",
    "            \n",
    "            for key in probs[i].keys():\n",
    "                \n",
    "                if(label == None or probs[i][key] > aux):\n",
    "                    label = key\n",
    "                    aux = probs[i][key]\n",
    "            \n",
    "            results.append(label)   \n",
    "            label = None\n",
    "            aux = None\n",
    "                            \n",
    "        return results\n",
    "    \n",
    "    def classes_prob(self, means_stds, test):\n",
    "                \n",
    "        prob = {}\n",
    "        keys = means_stds.keys()\n",
    "                \n",
    "        for key in keys:\n",
    "            \n",
    "            prob[key] = 1\n",
    "            \n",
    "            for i in range(len(means_stds[key])):\n",
    "                                \n",
    "                mean, std = means_stds[key][i][0], means_stds[key][i][1]\n",
    "                \n",
    "                prob[key] = prob[key] * self.gaussian_prob(test[i], mean, std)\n",
    "            \n",
    "            prob[key] = prob[key] * self.priori[key]\n",
    "                \n",
    "        return prob\n",
    "    \n",
    "    def score(self, true_label, pred_label):\n",
    "        \n",
    "        count = 0\n",
    "        for i in range(len(pred_label)):\n",
    "            \n",
    "            if(pred_label[i] == true_label[i]):\n",
    "                count = count + 1\n",
    "        \n",
    "        return count/len(pred_label)\n",
    "                  \n",
    "    #Args: pred target, DataFrame DataFrame\n",
    "    #Ret: None; The means and standards deviations\n",
    "    def fit(self, pred, target):\n",
    "        \n",
    "        attrs = pred.columns\n",
    "        target = list(target.values)\n",
    "        \n",
    "        self.priori_class(target)\n",
    "        \n",
    "        classes_obj = self.separate_classes(pred, target)\n",
    "        \n",
    "        keys = classes_obj.keys()\n",
    "        means_stds = {}\n",
    "       \n",
    "        for key in keys:\n",
    "            means_stds[key] = []\n",
    "            means_stds[key] = self.summarize(classes_obj[key], attrs)\n",
    "        \n",
    "        self.model = means_stds\n",
    "        \n",
    "    def summarize(self, pred, attrs):\n",
    "         \n",
    "        means_std = []\n",
    "          \n",
    "        for attr in attrs:\n",
    "            means_std.append([np.mean(pred[attr].values) ,np.std(pred[attr].values)])\n",
    "        \n",
    "        return means_std\n",
    "    \n",
    "    def priori_class(self, target):\n",
    "        \n",
    "        priori = {}\n",
    "        count = {}\n",
    "        \n",
    "        for i in set(target):\n",
    "            priori[i] = 0\n",
    "            count[i] = 0\n",
    "        \n",
    "        for i in range(len(target)):\n",
    "            count[target[i]] = count[target[i]] + 1\n",
    "            \n",
    "        for i in priori.keys():\n",
    "            priori[i] = count[i]/len(target)\n",
    "            \n",
    "        self.priori = priori\n",
    "        \n",
    "    \n",
    "    def separate_classes(self, pred, target):\n",
    "        \n",
    "        classes = list(set(target))\n",
    "        classes_obj = {}\n",
    "        df = {}\n",
    "        \n",
    "        for i in range(len(classes)):\n",
    "            classes_obj[classes[i]] = []\n",
    "            df[classes[i]] = pd.DataFrame()\n",
    "        \n",
    "        for i in range(len(pred)):\n",
    "            df[target[i]] = df[target[i]].append(pred.iloc[i])\n",
    "            classes_obj[target[i]] = df[target[i]]\n",
    "                        \n",
    "        return classes_obj    \n",
    "            \n",
    "    \n",
    "    def gaussian_prob(self, x, mean, stdev):\n",
    "        exponent = math.exp(-(math.pow(x-mean,2)/(2*math.pow(stdev,2))))\n",
    "        return (1 / (math.sqrt(2*math.pi) * stdev)) * exponent\n",
    "        "
   ]
  },
  {
   "cell_type": "code",
   "execution_count": 29,
   "metadata": {},
   "outputs": [
    {
     "name": "stdout",
     "output_type": "stream",
     "text": [
      "\n",
      "Tempo: 0.7305812835693359\n",
      "\n",
      "Tempo: 0.7322978973388672\n"
     ]
    },
    {
     "data": {
      "text/plain": [
       "0.910828025477707"
      ]
     },
     "execution_count": 29,
     "metadata": {},
     "output_type": "execute_result"
    }
   ],
   "source": [
    "data = pd.read_csv(\"balance-scale.data\")\n",
    "sample = ds.random_subsampling(data, 1)\n",
    "\n",
    "pred = sample[0][0].drop(columns = \"State\")\n",
    "target = sample[0][0][\"State\"]\n",
    "\n",
    "true_label = list(sample[0][1][\"State\"])\n",
    "test = sample[0][1].drop(columns = \"State\")\n",
    "\n",
    "nb = naiveBayes()\n",
    "\n",
    "inicio = time.time()\n",
    "nb.fit(pred, target)\n",
    "fim = time.time()\n",
    "print(\"\\n\" + \"Tempo: \" + str(fim - inicio))\n",
    "pred_label = nb.predict(test)\n",
    "nb.score(true_label, pred_label) "
   ]
  },
  {
   "cell_type": "code",
   "execution_count": 27,
   "metadata": {},
   "outputs": [
    {
     "name": "stdout",
     "output_type": "stream",
     "text": [
      "\n",
      "Tempo: 0.006943464279174805\n"
     ]
    },
    {
     "data": {
      "text/plain": [
       "0.89171974522293"
      ]
     },
     "execution_count": 27,
     "metadata": {},
     "output_type": "execute_result"
    }
   ],
   "source": [
    "gnb = GaussianNB()\n",
    "inicio = time.time()\n",
    "y_pred = gnb.fit(pred, target).predict(test)\n",
    "fim = time.time()\n",
    "print(\"\\n\" + \"Tempo: \" + str(fim - inicio))\n",
    "\n",
    "accuracy_score(true_label, y_pred)"
   ]
  },
  {
   "cell_type": "code",
   "execution_count": null,
   "metadata": {},
   "outputs": [],
   "source": []
  },
  {
   "cell_type": "code",
   "execution_count": null,
   "metadata": {},
   "outputs": [],
   "source": []
  }
 ],
 "metadata": {
  "kernelspec": {
   "display_name": "Python 3",
   "language": "python",
   "name": "python3"
  },
  "language_info": {
   "codemirror_mode": {
    "name": "ipython",
    "version": 3
   },
   "file_extension": ".py",
   "mimetype": "text/x-python",
   "name": "python",
   "nbconvert_exporter": "python",
   "pygments_lexer": "ipython3",
   "version": "3.6.7"
  }
 },
 "nbformat": 4,
 "nbformat_minor": 2
}
